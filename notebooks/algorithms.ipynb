{
 "cells": [
  {
   "cell_type": "markdown",
   "metadata": {},
   "source": [
    "# Computer Vision\n",
    "\n",
    "This notebook contains some implementations of Computer Vision/Image processing algorithms."
   ]
  },
  {
   "cell_type": "markdown",
   "metadata": {},
   "source": [
    "### Grayscale resolution"
   ]
  },
  {
   "cell_type": "code",
   "execution_count": 3,
   "metadata": {},
   "outputs": [
    {
     "data": {
      "application/vnd.jupyter.widget-view+json": {
       "model_id": "0d1463ca702141f59c8e3f642074ea8e",
       "version_major": 2,
       "version_minor": 0
      },
      "text/html": [
       "<p>Failed to display Jupyter Widget of type <code>interactive</code>.</p>\n",
       "<p>\n",
       "  If you're reading this message in the Jupyter Notebook or JupyterLab Notebook, it may mean\n",
       "  that the widgets JavaScript is still loading. If this message persists, it\n",
       "  likely means that the widgets JavaScript library is either not installed or\n",
       "  not enabled. See the <a href=\"https://ipywidgets.readthedocs.io/en/stable/user_install.html\">Jupyter\n",
       "  Widgets Documentation</a> for setup instructions.\n",
       "</p>\n",
       "<p>\n",
       "  If you're reading this message in another frontend (for example, a static\n",
       "  rendering on GitHub or <a href=\"https://nbviewer.jupyter.org/\">NBViewer</a>),\n",
       "  it may mean that your frontend doesn't currently support widgets.\n",
       "</p>\n"
      ],
      "text/plain": [
       "interactive(children=(IntSlider(value=4, description='res', max=16, min=2), Output()), _dom_classes=('widget-interact',))"
      ]
     },
     "metadata": {},
     "output_type": "display_data"
    }
   ],
   "source": [
    "import sys\n",
    "import math\n",
    "\n",
    "import numpy as np\n",
    "import matplotlib.pyplot as plt\n",
    "from PIL import Image\n",
    "\n",
    "from __future__ import print_function\n",
    "from ipywidgets import interact\n",
    "import ipywidgets as widgets\n",
    "\n",
    "def threshold(res):\n",
    "  img = np.asarray(Image.open('images/lena.png').convert('L')).copy()\n",
    "  step = math.ceil(255/res)\n",
    "  regions = [(x, x+step, x+step-1) for x in range(0,255,step)]\n",
    "\n",
    "  for (lo, hi, color) in regions:\n",
    "    img[np.logical_and(img>=lo, img<hi)] = color\n",
    "    \n",
    "  plt.imshow(img, cmap='gray')\n",
    "  plt.show()\n",
    "\n",
    "_ = interact(threshold, res=widgets.IntSlider(min=2,max=16,step=1,value=4))"
   ]
  },
  {
   "cell_type": "markdown",
   "metadata": {},
   "source": [
    "### Variance based thresholding"
   ]
  },
  {
   "cell_type": "markdown",
   "metadata": {},
   "source": [
    "Assume image has a grayscale resolution of $L$ gray levels.\n",
    "\n",
    "The number of pixels with gray level $i$ is written as $n_{i}$, so the total number of pixels in the image is $N = n_{1} + n_{2} + \\ldots + n_{L}$. Thus, the probability of a pixel having gray level $i$ is:\n",
    "\n",
    "\\begin{equation}\n",
    "    p_{i}=\\frac{n_{i}}{N}\n",
    "\\end{equation}\n",
    "where\n",
    "\n",
    "\\begin{equation}\n",
    "    p_{i}>=0 \\qquad \\sum_{i=1}^{L} p_{i}=1\n",
    "\\end{equation}\n",
    "\n",
    "Compute between-class variance $\\sigma_{B}^2$ and total variance $\\sigma_{T}^2$ using $k$:\n",
    "\n",
    "\\begin{equation}\n",
    "    \\sigma_{B}^2=\\pi_{0}(\\mu_{0} - \\mu_{T})^2 + \\pi_{1}(\\mu_{1} - \\mu_{T})^2\n",
    "\\end{equation}\n",
    "\n",
    "\\begin{equation}\n",
    "    \\sigma_{T}^2=\\sum_{i=1}^{L}(i - \\mu_{T})^2p_{i}\n",
    "\\end{equation}\n",
    "where\n",
    "\n",
    "\\begin{equation}\n",
    "    \\pi_{0}=\\sum_{i=1}^{k}p_{i} \\qquad \\pi_{1}=\\sum_{i=k+1}^{L}p_{i}=1-{\\pi_{0}}\n",
    "\\end{equation}\n",
    "\n",
    "\\begin{equation}\n",
    "    \\mu_{0}=\\sum_{i=1}^{k}ip_{i}/\\pi_{0} \\quad \\mu_{1}=\\sum_{i=k+1}^{L}ip_{i}/\\pi_{1} \\quad\n",
    "    \\mu_{T}=\\sum_{i=1}^{L}ip_{i}\n",
    "\\end{equation}\n",
    "\n",
    "The formula for the between-class variance can be simplified to:\n",
    "\n",
    "\\begin{equation}\n",
    "    \\sigma_{B}^2=\\pi_{0}\\pi_{1}(\\mu_{1} - \\mu_{0})^2\n",
    "\\end{equation}\n",
    "\n",
    "For a single threshold, the criterion to be maximized is the ratio of the between-class variance to the total variance:\n",
    "\n",
    "\\begin{equation}\n",
    "    \\eta=\\frac{\\sigma_{B}^2}{\\sigma_{T}^2}\n",
    "\\end{equation}\n",
    "\n",
    "\n",
    "Taken from Computer and Machine Vision (Fourth Edition): Theory, Algorithms, Practicalities. E.R. Davies."
   ]
  },
  {
   "cell_type": "code",
   "execution_count": 83,
   "metadata": {},
   "outputs": [
    {
     "data": {
      "image/png": "[encoded data removed]",
      "text/plain": [
       "<matplotlib.figure.Figure at 0x113a859e8>"
      ]
     },
     "metadata": {},
     "output_type": "display_data"
    }
   ],
   "source": [
    "import sys\n",
    "\n",
    "import numpy as np\n",
    "from PIL import Image\n",
    "\n",
    "image = np.asarray(Image.open('images/lena.png').convert('L'))\n",
    "img = image.copy()\n",
    "hist, _ = np.histogram(img, bins=256)\n",
    "\n",
    "def histogram_variance(hist, k):\n",
    "    probs = hist / hist.sum()\n",
    "\n",
    "    pi_zero = np.sum(probs[:k])\n",
    "    pi_one  = 1 - pi_zero\n",
    "\n",
    "    def compute_mi_zero():\n",
    "      factors = np.array(range(0,k)) / pi_zero\n",
    "      return np.dot(probs[:k], factors)\n",
    "\n",
    "    def compute_mi_one():\n",
    "      factors = np.array(range(k+1, probs.size+1)) / pi_one\n",
    "      return np.dot(probs[k:], factors)\n",
    "\n",
    "    def compute_mi_t():\n",
    "      factors = np.array(range(0, probs.size))\n",
    "      return np.dot(probs, factors)\n",
    "\n",
    "    mi_zero = compute_mi_zero()\n",
    "    mi_one  = compute_mi_one()\n",
    "    mi_t    = compute_mi_t()\n",
    "\n",
    "    variance_b = pi_zero * pi_one * (mi_one - mi_zero) ** 2\n",
    "\n",
    "    def compute_variance_t():\n",
    "      factors = (np.array(range(0, probs.size)) - mi_t) ** 2\n",
    "      return np.dot(probs, factors)\n",
    "\n",
    "    variance_t = compute_variance_t()\n",
    "\n",
    "    variances_ratio = variance_b / variance_t\n",
    "\n",
    "    return variances_ratio\n",
    "\n",
    "def variance_based_thresholding(hist):\n",
    "    ratios = np.array([histogram_variance(hist, x) for x in range(0,256)])\n",
    "    return np.argmax(ratios), ratios\n",
    "\n",
    "k, ratios = variance_based_thresholding(hist)\n",
    "\n",
    "black_region = np.where(img >= k)\n",
    "white_region = np.where(img < k)\n",
    "\n",
    "img[black_region] = 0\n",
    "img[white_region] = 255\n",
    "\n",
    "fig, (ax1, ax2) = plt.subplots(1, 2)\n",
    "fig.set_figwidth(10)\n",
    "ax1.set_title(f'When k={k}')\n",
    "ax1.imshow(img, cmap='gray')\n",
    "plt.plot(k, entropies[k], 'go')\n",
    "ax2.plot(entropies)\n",
    "\n",
    "ax2.set_title('Variances ratios')\n",
    "ax2.set_xlabel(f'k')\n",
    "_ = ax2.set_ylabel('in_between_variance/total_variance')"
   ]
  },
  {
   "cell_type": "markdown",
   "metadata": {},
   "source": [
    "### Maximum entropy thresholding\n",
    "\n",
    "Divide intensity probability distribution in two classes: those with gray levels up to the threshold value $k$ and those with gray levels above $k$. This leads to two probability distributions A and B:\n",
    "\n",
    "\\begin{equation}\n",
    "    A: \\frac{p_{1}}{P_{k}}, \\frac{p_{2}}{P_{k}}, \\ldots, \\frac{p_{k}}{P_{k}}\n",
    "\\end{equation}\n",
    "\n",
    "\\begin{equation}\n",
    "    B: \\frac{p_{k+1}}{1-p_{k}}, \\frac{p_{k+2}}{1-p_{k}}, \\ldots, \\frac{p_{L}}{1-p_{k}}\n",
    "\\end{equation}\n",
    "\n",
    "where:\n",
    "\n",
    "\\begin{equation}\n",
    "    P_{k}=\\sum_{i=1}^{k}p_{i} \\qquad 1-p_{k}=\\sum_{i=k+1}^{L}p_{i}\n",
    "\\end{equation}\n",
    "\n",
    "\\begin{equation}\n",
    "    H(A)=-\\sum_{i=1}^{k}\\frac{p_{i}}{P_{k}}\\ln{\\frac{p_{i}}{P_{k}}}\n",
    "\\end{equation}\n",
    "\n",
    "\\begin{equation}\n",
    "    H(B)=-\\sum_{i=k+1}^{L}\\frac{p_{i}}{1-P_{k}}\\ln{\\frac{p_{i}}{1-P_{k}}}\n",
    "\\end{equation}\n",
    "\n",
    "and the total entropy is:\n",
    "\n",
    "\\begin{equation}\n",
    "    H(k) = H(A) + H(B)\n",
    "\\end{equation}\n",
    "\n",
    "\n",
    "Taken from Computer and Machine Vision (Fourth Edition): Theory, Algorithms, Practicalities. E.R. Davies."
   ]
  },
  {
   "cell_type": "code",
   "execution_count": 85,
   "metadata": {},
   "outputs": [
    {
     "data": {
      "image/png": "[encoded data removed]",
      "text/plain": [
       "<matplotlib.figure.Figure at 0x113a98a20>"
      ]
     },
     "metadata": {},
     "output_type": "display_data"
    }
   ],
   "source": [
    "import sys\n",
    "import math\n",
    "\n",
    "import numpy as np\n",
    "import matplotlib.pyplot as plt\n",
    "from PIL import Image\n",
    "\n",
    "image = np.asarray(Image.open('images/lena.png').convert('L'))\n",
    "img = image.copy()\n",
    "hist, _ = np.histogram(img, bins=256)\n",
    "\n",
    "def histogram_entropy(hist, k):\n",
    "    probs = hist / hist.sum()\n",
    "    pk = np.sum(probs[:k])\n",
    "    pk_complement = 1 - pk\n",
    "\n",
    "    a_dist = probs[:k] / pk\n",
    "    b_dist = probs[k:] / pk_complement\n",
    "\n",
    "    def dist_entropy(dist):\n",
    "        def entropy(x):\n",
    "            if x > 0:\n",
    "                return -x * math.log(x)\n",
    "            else:\n",
    "                return 0\n",
    "        entropy_v = np.vectorize(entropy, otypes=[np.dtype('f8')])\n",
    "        return np.sum(entropy_v(dist))\n",
    "\n",
    "    entropy_a = dist_entropy(a_dist)\n",
    "    entropy_b = dist_entropy(b_dist)\n",
    "\n",
    "    total_entropy = entropy_a + entropy_b\n",
    "\n",
    "    return total_entropy\n",
    "\n",
    "def maximum_entropy_thresholding(hist):\n",
    "    entropies = np.array([histogram_entropy(hist, x) for x in range(0,256)])\n",
    "    return np.argmax(entropies), entropies\n",
    "\n",
    "k, entropies = maximum_entropy_thresholding(hist)\n",
    "\n",
    "black_region = np.where(img >= k)\n",
    "white_region = np.where(img < k)\n",
    "\n",
    "img[black_region] = 0\n",
    "img[white_region] = 255\n",
    "\n",
    "fig, (ax1, ax2) = plt.subplots(1, 2)\n",
    "fig.set_figwidth(10)\n",
    "ax1.set_title(f'When k={k}')\n",
    "ax1.imshow(img, cmap='gray')\n",
    "plt.plot(k, entropies[k], 'go')\n",
    "ax2.plot(entropies)\n",
    "\n",
    "ax2.set_title('Entropies')\n",
    "ax2.set_xlabel(f'k')\n",
    "_ = ax2.set_ylabel('H(k)')"
   ]
  },
  {
   "cell_type": "markdown",
   "metadata": {},
   "source": [
    "### Line Hough transform"
   ]
  },
  {
   "cell_type": "code",
   "execution_count": 1,
   "metadata": {},
   "outputs": [
    {
     "data": {
      "application/vnd.jupyter.widget-view+json": {
       "model_id": "0408d2d647bb4134a7dbe7094500a607",
       "version_major": 2,
       "version_minor": 0
      },
      "text/html": [
       "<p>Failed to display Jupyter Widget of type <code>interactive</code>.</p>\n",
       "<p>\n",
       "  If you're reading this message in the Jupyter Notebook or JupyterLab Notebook, it may mean\n",
       "  that the widgets JavaScript is still loading. If this message persists, it\n",
       "  likely means that the widgets JavaScript library is either not installed or\n",
       "  not enabled. See the <a href=\"https://ipywidgets.readthedocs.io/en/stable/user_install.html\">Jupyter\n",
       "  Widgets Documentation</a> for setup instructions.\n",
       "</p>\n",
       "<p>\n",
       "  If you're reading this message in another frontend (for example, a static\n",
       "  rendering on GitHub or <a href=\"https://nbviewer.jupyter.org/\">NBViewer</a>),\n",
       "  it may mean that your frontend doesn't currently support widgets.\n",
       "</p>\n"
      ],
      "text/plain": [
       "interactive(children=(IntSlider(value=100, description='canny_abajo', max=255), IntSlider(value=200, description='canny_arriba', max=255), IntSlider(value=70, description='umbral_lineas', max=255), Output()), _dom_classes=('widget-interact',))"
      ]
     },
     "metadata": {},
     "output_type": "display_data"
    }
   ],
   "source": [
    "import sys\n",
    "import math\n",
    "\n",
    "import cv2\n",
    "import numpy as np\n",
    "import matplotlib.pyplot as plt\n",
    "\n",
    "from __future__ import print_function\n",
    "from ipywidgets import interact\n",
    "import ipywidgets as widgets\n",
    "\n",
    "def hough_transform(canny_abajo, canny_arriba, umbral_lineas):\n",
    "  image_color = cv2.imread(\"images/cuadrado.png\")\n",
    "  image = cv2.cvtColor(image_color, cv2.COLOR_BGR2GRAY)\n",
    "  \n",
    "  bordes = cv2.Canny(image, canny_abajo, canny_arriba)\n",
    "  \n",
    "  (w,h) = image.shape\n",
    "  diagonal = math.ceil(math.sqrt(w ** 2 + h** 2))\n",
    "  espacio_p = np.zeros((diagonal, 181))\n",
    "\n",
    "  for i in range(w):\n",
    "    for j in range(h):\n",
    "      if bordes[i][j] != 0:\n",
    "        for t in range(-90, 90+1):\n",
    "          p = (i * math.cos(t)) + (j * math.sin(t))\n",
    "          espacio_p[math.floor(p)][t+90] += 1\n",
    "\n",
    "  lineas = np.argwhere(espacio_p > umbral_lineas)\n",
    "  \n",
    "  for (p,theta) in lineas:\n",
    "    a = math.sin(theta-90)\n",
    "    b = math.cos(theta-90)\n",
    "    x = a*p\n",
    "    y = b*p\n",
    "    p1 = (math.floor(x+1000*(-b)), math.floor(y+1000*a))\n",
    "    p2 = (math.floor(x-1000*(-b)), math.floor(y-1000*a))\n",
    "    cv2.line(image_color, p1, p2, (0,255,0))\n",
    "    \n",
    "  plt.imshow(cv2.cvtColor(image_color, cv2.COLOR_BGR2RGB))\n",
    "  plt.show()\n",
    "\n",
    "    \n",
    "_ = interact(\n",
    "    hough_transform,\n",
    "    canny_abajo=widgets.IntSlider(min=0,max=255,step=1,value=100),\n",
    "    canny_arriba=widgets.IntSlider(min=0,max=255,step=1,value=200),\n",
    "    umbral_lineas=widgets.IntSlider(min=0,max=255,step=1,value=70)\n",
    ")"
   ]
  },
  {
   "cell_type": "markdown",
   "metadata": {},
   "source": [
    "### Circle Hough transform\n",
    "\n",
    "TODO: figure out why algorithm doesn't work here in notebook (works in standalone script)."
   ]
  },
  {
   "cell_type": "code",
   "execution_count": 2,
   "metadata": {},
   "outputs": [
    {
     "data": {
      "application/vnd.jupyter.widget-view+json": {
       "model_id": "26d30a1404b14cf4ac2b9b810f309744",
       "version_major": 2,
       "version_minor": 0
      },
      "text/html": [
       "<p>Failed to display Jupyter Widget of type <code>interactive</code>.</p>\n",
       "<p>\n",
       "  If you're reading this message in the Jupyter Notebook or JupyterLab Notebook, it may mean\n",
       "  that the widgets JavaScript is still loading. If this message persists, it\n",
       "  likely means that the widgets JavaScript library is either not installed or\n",
       "  not enabled. See the <a href=\"https://ipywidgets.readthedocs.io/en/stable/user_install.html\">Jupyter\n",
       "  Widgets Documentation</a> for setup instructions.\n",
       "</p>\n",
       "<p>\n",
       "  If you're reading this message in another frontend (for example, a static\n",
       "  rendering on GitHub or <a href=\"https://nbviewer.jupyter.org/\">NBViewer</a>),\n",
       "  it may mean that your frontend doesn't currently support widgets.\n",
       "</p>\n"
      ],
      "text/plain": [
       "interactive(children=(IntSlider(value=100, description='canny_abajo', max=255), IntSlider(value=200, description='canny_arriba', max=255), IntSlider(value=40, description='umbral_circulos', max=255), IntSlider(value=100, description='radio_estimado', max=255), Output()), _dom_classes=('widget-interact',))"
      ]
     },
     "metadata": {},
     "output_type": "display_data"
    }
   ],
   "source": [
    "import sys\n",
    "import math\n",
    "\n",
    "import cv2\n",
    "import numpy as np\n",
    "import matplotlib.pyplot as plt\n",
    "\n",
    "from __future__ import print_function\n",
    "from ipywidgets import interact\n",
    "import ipywidgets as widgets\n",
    "\n",
    "def circle_hough_transform(canny_abajo, canny_arriba, umbral_circulos, radio_estimado):\n",
    "  image_color = cv2.imread(\"images/circulos.jpg\")\n",
    "  image = cv2.cvtColor(image_color, cv2.COLOR_BGR2GRAY)\n",
    "  \n",
    "  bordes = cv2.Canny(image, canny_abajo, canny_arriba)\n",
    "\n",
    "  (w, h) = image.shape\n",
    "  espacio_p = np.zeros((w+1,h+1))\n",
    "\n",
    "  for i in range(w):\n",
    "    for j in range(h):\n",
    "      if bordes[i][j] != 0:\n",
    "        for t in range(0, 360+1):\n",
    "          a= (i-radio_estimado) * (math.cos(t))\n",
    "          b= (j-radio_estimado) * (math.sin(t))\n",
    "          if (a>=0 and b>=0 and a<=w-1 and b<=h-1):\n",
    "            espacio_p[math.floor(a), math.floor(b)] += 1\n",
    "\n",
    "  circulo_centros = np.argwhere(espacio_p > umbral_circulos)\n",
    "\n",
    "  for centro in circulo_centros:\n",
    "    (x, y) = centro\n",
    "    cv2.circle(image_color, tuple(reversed(centro)), radio_estimado, (0,160,277))\n",
    "                     \n",
    "  plt.imshow(cv2.cvtColor(image_color, cv2.COLOR_BGR2RGB))\n",
    "  plt.show()\n",
    "\n",
    "_ = interact(\n",
    "    circle_hough_transform,\n",
    "    canny_abajo=widgets.IntSlider(min=0, max=255, step=1, value=100),\n",
    "    canny_arriba=widgets.IntSlider(min=0, max=255, step=1, value=200),\n",
    "    umbral_circulos=widgets.IntSlider(min=0, max=255, step=1, value=40),\n",
    "    radio_estimado=widgets.IntSlider(min=0, max=255, step=1, value=100)\n",
    ")                     "
   ]
  }
 ],
 "metadata": {
  "kernelspec": {
   "display_name": "Python 3",
   "language": "python",
   "name": "python3"
  },
  "language_info": {
   "codemirror_mode": {
    "name": "ipython",
    "version": 3
   },
   "file_extension": ".py",
   "mimetype": "text/x-python",
   "name": "python",
   "nbconvert_exporter": "python",
   "pygments_lexer": "ipython3",
   "version": "3.6.3"
  }
 },
 "nbformat": 4,
 "nbformat_minor": 2
}
